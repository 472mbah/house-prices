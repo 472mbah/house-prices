{
 "cells": [
  {
   "cell_type": "code",
   "execution_count": 1,
   "id": "49d35e52",
   "metadata": {},
   "outputs": [],
   "source": [
    "%matplotlib inline\n",
    "import pandas as pd\n",
    "import matplotlib.pyplot as plt\n",
    "import numpy as np"
   ]
  },
  {
   "cell_type": "code",
   "execution_count": 2,
   "id": "239b3d87",
   "metadata": {},
   "outputs": [],
   "source": [
    "df = pd.read_csv('data.csv')"
   ]
  },
  {
   "cell_type": "code",
   "execution_count": 3,
   "id": "51c0655e",
   "metadata": {
    "scrolled": true
   },
   "outputs": [
    {
     "data": {
      "text/html": [
       "<div>\n",
       "<style scoped>\n",
       "    .dataframe tbody tr th:only-of-type {\n",
       "        vertical-align: middle;\n",
       "    }\n",
       "\n",
       "    .dataframe tbody tr th {\n",
       "        vertical-align: top;\n",
       "    }\n",
       "\n",
       "    .dataframe thead th {\n",
       "        text-align: right;\n",
       "    }\n",
       "</style>\n",
       "<table border=\"1\" class=\"dataframe\">\n",
       "  <thead>\n",
       "    <tr style=\"text-align: right;\">\n",
       "      <th></th>\n",
       "      <th>area_type</th>\n",
       "      <th>availability</th>\n",
       "      <th>location</th>\n",
       "      <th>size</th>\n",
       "      <th>society</th>\n",
       "      <th>total_sqft</th>\n",
       "      <th>bath</th>\n",
       "      <th>balcony</th>\n",
       "      <th>price</th>\n",
       "    </tr>\n",
       "  </thead>\n",
       "  <tbody>\n",
       "    <tr>\n",
       "      <th>0</th>\n",
       "      <td>Super built-up  Area</td>\n",
       "      <td>19-Dec</td>\n",
       "      <td>Electronic City Phase II</td>\n",
       "      <td>2 BHK</td>\n",
       "      <td>Coomee</td>\n",
       "      <td>1056</td>\n",
       "      <td>2.0</td>\n",
       "      <td>1.0</td>\n",
       "      <td>39.07</td>\n",
       "    </tr>\n",
       "    <tr>\n",
       "      <th>1</th>\n",
       "      <td>Plot  Area</td>\n",
       "      <td>Ready To Move</td>\n",
       "      <td>Chikka Tirupathi</td>\n",
       "      <td>4 Bedroom</td>\n",
       "      <td>Theanmp</td>\n",
       "      <td>2600</td>\n",
       "      <td>5.0</td>\n",
       "      <td>3.0</td>\n",
       "      <td>120.00</td>\n",
       "    </tr>\n",
       "    <tr>\n",
       "      <th>2</th>\n",
       "      <td>Built-up  Area</td>\n",
       "      <td>Ready To Move</td>\n",
       "      <td>Uttarahalli</td>\n",
       "      <td>3 BHK</td>\n",
       "      <td>NaN</td>\n",
       "      <td>1440</td>\n",
       "      <td>2.0</td>\n",
       "      <td>3.0</td>\n",
       "      <td>62.00</td>\n",
       "    </tr>\n",
       "    <tr>\n",
       "      <th>3</th>\n",
       "      <td>Super built-up  Area</td>\n",
       "      <td>Ready To Move</td>\n",
       "      <td>Lingadheeranahalli</td>\n",
       "      <td>3 BHK</td>\n",
       "      <td>Soiewre</td>\n",
       "      <td>1521</td>\n",
       "      <td>3.0</td>\n",
       "      <td>1.0</td>\n",
       "      <td>95.00</td>\n",
       "    </tr>\n",
       "    <tr>\n",
       "      <th>4</th>\n",
       "      <td>Super built-up  Area</td>\n",
       "      <td>Ready To Move</td>\n",
       "      <td>Kothanur</td>\n",
       "      <td>2 BHK</td>\n",
       "      <td>NaN</td>\n",
       "      <td>1200</td>\n",
       "      <td>2.0</td>\n",
       "      <td>1.0</td>\n",
       "      <td>51.00</td>\n",
       "    </tr>\n",
       "  </tbody>\n",
       "</table>\n",
       "</div>"
      ],
      "text/plain": [
       "              area_type   availability                  location       size  \\\n",
       "0  Super built-up  Area         19-Dec  Electronic City Phase II      2 BHK   \n",
       "1            Plot  Area  Ready To Move          Chikka Tirupathi  4 Bedroom   \n",
       "2        Built-up  Area  Ready To Move               Uttarahalli      3 BHK   \n",
       "3  Super built-up  Area  Ready To Move        Lingadheeranahalli      3 BHK   \n",
       "4  Super built-up  Area  Ready To Move                  Kothanur      2 BHK   \n",
       "\n",
       "   society total_sqft  bath  balcony   price  \n",
       "0  Coomee        1056   2.0      1.0   39.07  \n",
       "1  Theanmp       2600   5.0      3.0  120.00  \n",
       "2      NaN       1440   2.0      3.0   62.00  \n",
       "3  Soiewre       1521   3.0      1.0   95.00  \n",
       "4      NaN       1200   2.0      1.0   51.00  "
      ]
     },
     "execution_count": 3,
     "metadata": {},
     "output_type": "execute_result"
    }
   ],
   "source": [
    "df.head()"
   ]
  },
  {
   "cell_type": "code",
   "execution_count": 4,
   "id": "63bd476e",
   "metadata": {},
   "outputs": [
    {
     "data": {
      "text/plain": [
       "1306"
      ]
     },
     "execution_count": 4,
     "metadata": {},
     "output_type": "execute_result"
    }
   ],
   "source": [
    "len(df.location.unique())"
   ]
  },
  {
   "cell_type": "code",
   "execution_count": 5,
   "id": "f4750351",
   "metadata": {},
   "outputs": [
    {
     "data": {
      "text/plain": [
       "array(['19-Dec', 'Ready To Move', '18-May', '18-Feb', '18-Nov', '20-Dec',\n",
       "       '17-Oct', '21-Dec', '19-Sep', '20-Sep', '18-Mar', '20-Feb',\n",
       "       '18-Apr', '20-Aug', '18-Oct', '19-Mar', '17-Sep', '18-Dec',\n",
       "       '17-Aug', '19-Apr', '18-Jun', '22-Dec', '22-Jan', '18-Aug',\n",
       "       '19-Jan', '17-Jul', '18-Jul', '21-Jun', '20-May', '19-Aug',\n",
       "       '18-Sep', '17-May', '17-Jun', '21-May', '18-Jan', '20-Mar',\n",
       "       '17-Dec', '16-Mar', '19-Jun', '22-Jun', '19-Jul', '21-Feb',\n",
       "       'Immediate Possession', '19-May', '17-Nov', '20-Oct', '20-Jun',\n",
       "       '19-Feb', '21-Oct', '21-Jan', '17-Mar', '17-Apr', '22-May',\n",
       "       '19-Oct', '21-Jul', '21-Nov', '21-Mar', '16-Dec', '22-Mar',\n",
       "       '20-Jan', '21-Sep', '21-Aug', '14-Nov', '19-Nov', '15-Nov',\n",
       "       '16-Jul', '15-Jun', '17-Feb', '20-Nov', '20-Jul', '16-Sep',\n",
       "       '15-Oct', '15-Dec', '16-Oct', '22-Nov', '15-Aug', '17-Jan',\n",
       "       '16-Nov', '20-Apr', '16-Jan', '14-Jul'], dtype=object)"
      ]
     },
     "execution_count": 5,
     "metadata": {},
     "output_type": "execute_result"
    }
   ],
   "source": [
    "df.availability.unique()"
   ]
  },
  {
   "cell_type": "code",
   "execution_count": 6,
   "id": "a5c10c67",
   "metadata": {},
   "outputs": [],
   "source": [
    "RTM = df[df.availability=='Ready To Move']"
   ]
  },
  {
   "cell_type": "code",
   "execution_count": 7,
   "id": "6905366d",
   "metadata": {},
   "outputs": [
    {
     "data": {
      "text/plain": [
       "0.7943693693693694"
      ]
     },
     "execution_count": 7,
     "metadata": {},
     "output_type": "execute_result"
    }
   ],
   "source": [
    "len(RTM)/df.shape[0]"
   ]
  },
  {
   "cell_type": "code",
   "execution_count": 8,
   "id": "c9bb1ecd",
   "metadata": {},
   "outputs": [
    {
     "data": {
      "text/html": [
       "<div>\n",
       "<style scoped>\n",
       "    .dataframe tbody tr th:only-of-type {\n",
       "        vertical-align: middle;\n",
       "    }\n",
       "\n",
       "    .dataframe tbody tr th {\n",
       "        vertical-align: top;\n",
       "    }\n",
       "\n",
       "    .dataframe thead th {\n",
       "        text-align: right;\n",
       "    }\n",
       "</style>\n",
       "<table border=\"1\" class=\"dataframe\">\n",
       "  <thead>\n",
       "    <tr style=\"text-align: right;\">\n",
       "      <th></th>\n",
       "      <th>bath</th>\n",
       "      <th>balcony</th>\n",
       "      <th>price</th>\n",
       "    </tr>\n",
       "  </thead>\n",
       "  <tbody>\n",
       "    <tr>\n",
       "      <th>count</th>\n",
       "      <td>13247.000000</td>\n",
       "      <td>12711.000000</td>\n",
       "      <td>13320.000000</td>\n",
       "    </tr>\n",
       "    <tr>\n",
       "      <th>mean</th>\n",
       "      <td>2.692610</td>\n",
       "      <td>1.584376</td>\n",
       "      <td>112.565627</td>\n",
       "    </tr>\n",
       "    <tr>\n",
       "      <th>std</th>\n",
       "      <td>1.341458</td>\n",
       "      <td>0.817263</td>\n",
       "      <td>148.971674</td>\n",
       "    </tr>\n",
       "    <tr>\n",
       "      <th>min</th>\n",
       "      <td>1.000000</td>\n",
       "      <td>0.000000</td>\n",
       "      <td>8.000000</td>\n",
       "    </tr>\n",
       "    <tr>\n",
       "      <th>25%</th>\n",
       "      <td>2.000000</td>\n",
       "      <td>1.000000</td>\n",
       "      <td>50.000000</td>\n",
       "    </tr>\n",
       "    <tr>\n",
       "      <th>50%</th>\n",
       "      <td>2.000000</td>\n",
       "      <td>2.000000</td>\n",
       "      <td>72.000000</td>\n",
       "    </tr>\n",
       "    <tr>\n",
       "      <th>75%</th>\n",
       "      <td>3.000000</td>\n",
       "      <td>2.000000</td>\n",
       "      <td>120.000000</td>\n",
       "    </tr>\n",
       "    <tr>\n",
       "      <th>max</th>\n",
       "      <td>40.000000</td>\n",
       "      <td>3.000000</td>\n",
       "      <td>3600.000000</td>\n",
       "    </tr>\n",
       "  </tbody>\n",
       "</table>\n",
       "</div>"
      ],
      "text/plain": [
       "               bath       balcony         price\n",
       "count  13247.000000  12711.000000  13320.000000\n",
       "mean       2.692610      1.584376    112.565627\n",
       "std        1.341458      0.817263    148.971674\n",
       "min        1.000000      0.000000      8.000000\n",
       "25%        2.000000      1.000000     50.000000\n",
       "50%        2.000000      2.000000     72.000000\n",
       "75%        3.000000      2.000000    120.000000\n",
       "max       40.000000      3.000000   3600.000000"
      ]
     },
     "execution_count": 8,
     "metadata": {},
     "output_type": "execute_result"
    }
   ],
   "source": [
    "df.describe()"
   ]
  },
  {
   "cell_type": "code",
   "execution_count": 9,
   "id": "ae7cefa7",
   "metadata": {
    "scrolled": true
   },
   "outputs": [
    {
     "data": {
      "text/plain": [
       "area_type          0\n",
       "availability       0\n",
       "location           1\n",
       "size              16\n",
       "society         5502\n",
       "total_sqft         0\n",
       "bath              73\n",
       "balcony          609\n",
       "price              0\n",
       "dtype: int64"
      ]
     },
     "execution_count": 9,
     "metadata": {},
     "output_type": "execute_result"
    }
   ],
   "source": [
    "df.isna().sum()"
   ]
  },
  {
   "cell_type": "code",
   "execution_count": 10,
   "id": "2f5f9b08",
   "metadata": {},
   "outputs": [
    {
     "data": {
      "text/plain": [
       "0.41306306306306306"
      ]
     },
     "execution_count": 10,
     "metadata": {},
     "output_type": "execute_result"
    }
   ],
   "source": [
    "# ratio to nan society values to rest of data set\n",
    "5502/df.shape[0]"
   ]
  },
  {
   "cell_type": "code",
   "execution_count": 11,
   "id": "b9dbbd17",
   "metadata": {},
   "outputs": [
    {
     "data": {
      "text/plain": [
       "count     13304\n",
       "unique       31\n",
       "top       2 BHK\n",
       "freq       5199\n",
       "Name: size, dtype: object"
      ]
     },
     "execution_count": 11,
     "metadata": {},
     "output_type": "execute_result"
    }
   ],
   "source": [
    "df['size'].describe()"
   ]
  },
  {
   "cell_type": "code",
   "execution_count": 12,
   "id": "fc0de299",
   "metadata": {},
   "outputs": [],
   "source": [
    "def draw_g(xlabel, ylabel, x, y, marker, color):\n",
    "    plt.xlabel(xlabel)\n",
    "    plt.ylabel(ylabel)\n",
    "    plt.scatter(x, y, marker=marker, color=color)"
   ]
  },
  {
   "cell_type": "code",
   "execution_count": 13,
   "id": "1ab645d9",
   "metadata": {},
   "outputs": [
    {
     "data": {
      "text/plain": [
       "array(['Super built-up  Area', 'Plot  Area', 'Built-up  Area',\n",
       "       'Carpet  Area'], dtype=object)"
      ]
     },
     "execution_count": 13,
     "metadata": {},
     "output_type": "execute_result"
    }
   ],
   "source": [
    "df.area_type.unique()"
   ]
  },
  {
   "cell_type": "code",
   "execution_count": 14,
   "id": "43c53b36",
   "metadata": {
    "scrolled": false
   },
   "outputs": [
    {
     "data": {
      "image/png": "[encoded data removed]",
      "text/plain": [
       "<Figure size 432x288 with 1 Axes>"
      ]
     },
     "metadata": {
      "needs_background": "light"
     },
     "output_type": "display_data"
    }
   ],
   "source": [
    "draw_g('area_type', 'price', df.area_type, df.price, '+', 'red')"
   ]
  },
  {
   "cell_type": "markdown",
   "id": "5e7e3487",
   "metadata": {},
   "source": [
    "<h1>Data cleaning</h1>\n",
    "<h3>Data Reduction</h3>\n",
    "<ul>\n",
    "    <li>Remove <b>Society</b> column since roughly 40% of values are undefined</li>\n",
    "    <li>Remove 16 values which are undefined in the <b>size</b> column</li>\n",
    "    <li>For simplicity we will assume that the location is not important (although, it probably would be)</li>\n",
    "    \n",
    "</ul>\n",
    "\n",
    "<h3>Data conversion</h3>\n",
    "<ul>\n",
    "    <li>Assume undefined values of the <b>Balconies</b> are 0</li>\n",
    "    <li>Convert string values of <b>size</b> column to regular integers, so '2BHK' would become just 2</li>\n",
    "    <li>Convert ready to move to the Dec 31 2017 and represent using timestamp for the <b>Availability</b> column</li>\n",
    "    <li>Based on when data set was released, assume that the year we are working with is 2017</li>    \n",
    "    <li>Get averages for the <b>Bath</b> column where values are nan</li>\n",
    "</ul>\n",
    "\n",
    "<h3>Data Reduction, reconsideration</h3>\n",
    "<p>After going through some videos, removing the location column entirely may not be the best option and so what we can do instead is to reduce the amount of locations we have by extracting the most common cities, we will then categorise all the other points as just 'other'.</p>\n",
    "\n",
    "<p>For the rest of the categorical data, use one-hot encoding</p>"
   ]
  },
  {
   "cell_type": "code",
   "execution_count": 15,
   "id": "bcd78a0d",
   "metadata": {},
   "outputs": [],
   "source": [
    "df.drop(['society'], axis=\"columns\", inplace=True)"
   ]
  },
  {
   "cell_type": "code",
   "execution_count": 16,
   "id": "f813b99e",
   "metadata": {},
   "outputs": [],
   "source": [
    "df.dropna(axis=0, subset=['size'], inplace=True)"
   ]
  },
  {
   "cell_type": "code",
   "execution_count": 17,
   "id": "0edba796",
   "metadata": {
    "scrolled": true
   },
   "outputs": [
    {
     "data": {
      "text/plain": [
       "area_type         0\n",
       "availability      0\n",
       "location          1\n",
       "size              0\n",
       "total_sqft        0\n",
       "bath             57\n",
       "balcony         593\n",
       "price             0\n",
       "dtype: int64"
      ]
     },
     "execution_count": 17,
     "metadata": {},
     "output_type": "execute_result"
    }
   ],
   "source": [
    "df.isna().sum()"
   ]
  },
  {
   "cell_type": "code",
   "execution_count": 18,
   "id": "5b226adf",
   "metadata": {},
   "outputs": [],
   "source": [
    "df.dropna(axis=0, subset=['location'], inplace=True)"
   ]
  },
  {
   "cell_type": "code",
   "execution_count": 19,
   "id": "3925d2d7",
   "metadata": {},
   "outputs": [
    {
     "data": {
      "text/plain": [
       "0    1.0\n",
       "1    3.0\n",
       "2    3.0\n",
       "3    1.0\n",
       "4    1.0\n",
       "5    1.0\n",
       "6    NaN\n",
       "7    NaN\n",
       "8    1.0\n",
       "9    NaN\n",
       "Name: balcony, dtype: float64"
      ]
     },
     "execution_count": 19,
     "metadata": {},
     "output_type": "execute_result"
    }
   ],
   "source": [
    "df.balcony[:10]"
   ]
  },
  {
   "cell_type": "code",
   "execution_count": 20,
   "id": "eeab31c6",
   "metadata": {},
   "outputs": [
    {
     "data": {
      "text/plain": [
       "False"
      ]
     },
     "execution_count": 20,
     "metadata": {},
     "output_type": "execute_result"
    }
   ],
   "source": [
    "import math\n",
    "math.isnan(df.balcony[1])"
   ]
  },
  {
   "cell_type": "code",
   "execution_count": 21,
   "id": "37ab4c22",
   "metadata": {},
   "outputs": [],
   "source": [
    "df.balcony = df.balcony.apply(lambda x: 0 if math.isnan(x) else x )"
   ]
  },
  {
   "cell_type": "code",
   "execution_count": 22,
   "id": "31ca1839",
   "metadata": {
    "scrolled": true
   },
   "outputs": [
    {
     "data": {
      "text/plain": [
       "area_type        0\n",
       "availability     0\n",
       "location         0\n",
       "size             0\n",
       "total_sqft       0\n",
       "bath            57\n",
       "balcony          0\n",
       "price            0\n",
       "dtype: int64"
      ]
     },
     "execution_count": 22,
     "metadata": {},
     "output_type": "execute_result"
    }
   ],
   "source": [
    "df.isna().sum()"
   ]
  },
  {
   "cell_type": "code",
   "execution_count": 23,
   "id": "01e9522a",
   "metadata": {},
   "outputs": [],
   "source": [
    "df.fillna(value={ 'bath':df.bath.mean() }, inplace=True)"
   ]
  },
  {
   "cell_type": "code",
   "execution_count": 24,
   "id": "5c247065",
   "metadata": {
    "scrolled": true
   },
   "outputs": [
    {
     "data": {
      "text/plain": [
       "area_type       0\n",
       "availability    0\n",
       "location        0\n",
       "size            0\n",
       "total_sqft      0\n",
       "bath            0\n",
       "balcony         0\n",
       "price           0\n",
       "dtype: int64"
      ]
     },
     "execution_count": 24,
     "metadata": {},
     "output_type": "execute_result"
    }
   ],
   "source": [
    "df.isna().sum()"
   ]
  },
  {
   "cell_type": "code",
   "execution_count": 25,
   "id": "3fa05570",
   "metadata": {
    "scrolled": true
   },
   "outputs": [
    {
     "data": {
      "text/html": [
       "<div>\n",
       "<style scoped>\n",
       "    .dataframe tbody tr th:only-of-type {\n",
       "        vertical-align: middle;\n",
       "    }\n",
       "\n",
       "    .dataframe tbody tr th {\n",
       "        vertical-align: top;\n",
       "    }\n",
       "\n",
       "    .dataframe thead th {\n",
       "        text-align: right;\n",
       "    }\n",
       "</style>\n",
       "<table border=\"1\" class=\"dataframe\">\n",
       "  <thead>\n",
       "    <tr style=\"text-align: right;\">\n",
       "      <th></th>\n",
       "      <th>area_type</th>\n",
       "      <th>availability</th>\n",
       "      <th>location</th>\n",
       "      <th>size</th>\n",
       "      <th>total_sqft</th>\n",
       "      <th>bath</th>\n",
       "      <th>balcony</th>\n",
       "      <th>price</th>\n",
       "    </tr>\n",
       "  </thead>\n",
       "  <tbody>\n",
       "    <tr>\n",
       "      <th>0</th>\n",
       "      <td>Super built-up  Area</td>\n",
       "      <td>19-Dec</td>\n",
       "      <td>Electronic City Phase II</td>\n",
       "      <td>2 BHK</td>\n",
       "      <td>1056</td>\n",
       "      <td>2.0</td>\n",
       "      <td>1.0</td>\n",
       "      <td>39.07</td>\n",
       "    </tr>\n",
       "    <tr>\n",
       "      <th>1</th>\n",
       "      <td>Plot  Area</td>\n",
       "      <td>Ready To Move</td>\n",
       "      <td>Chikka Tirupathi</td>\n",
       "      <td>4 Bedroom</td>\n",
       "      <td>2600</td>\n",
       "      <td>5.0</td>\n",
       "      <td>3.0</td>\n",
       "      <td>120.00</td>\n",
       "    </tr>\n",
       "    <tr>\n",
       "      <th>2</th>\n",
       "      <td>Built-up  Area</td>\n",
       "      <td>Ready To Move</td>\n",
       "      <td>Uttarahalli</td>\n",
       "      <td>3 BHK</td>\n",
       "      <td>1440</td>\n",
       "      <td>2.0</td>\n",
       "      <td>3.0</td>\n",
       "      <td>62.00</td>\n",
       "    </tr>\n",
       "    <tr>\n",
       "      <th>3</th>\n",
       "      <td>Super built-up  Area</td>\n",
       "      <td>Ready To Move</td>\n",
       "      <td>Lingadheeranahalli</td>\n",
       "      <td>3 BHK</td>\n",
       "      <td>1521</td>\n",
       "      <td>3.0</td>\n",
       "      <td>1.0</td>\n",
       "      <td>95.00</td>\n",
       "    </tr>\n",
       "    <tr>\n",
       "      <th>4</th>\n",
       "      <td>Super built-up  Area</td>\n",
       "      <td>Ready To Move</td>\n",
       "      <td>Kothanur</td>\n",
       "      <td>2 BHK</td>\n",
       "      <td>1200</td>\n",
       "      <td>2.0</td>\n",
       "      <td>1.0</td>\n",
       "      <td>51.00</td>\n",
       "    </tr>\n",
       "  </tbody>\n",
       "</table>\n",
       "</div>"
      ],
      "text/plain": [
       "              area_type   availability                  location       size  \\\n",
       "0  Super built-up  Area         19-Dec  Electronic City Phase II      2 BHK   \n",
       "1            Plot  Area  Ready To Move          Chikka Tirupathi  4 Bedroom   \n",
       "2        Built-up  Area  Ready To Move               Uttarahalli      3 BHK   \n",
       "3  Super built-up  Area  Ready To Move        Lingadheeranahalli      3 BHK   \n",
       "4  Super built-up  Area  Ready To Move                  Kothanur      2 BHK   \n",
       "\n",
       "  total_sqft  bath  balcony   price  \n",
       "0       1056   2.0      1.0   39.07  \n",
       "1       2600   5.0      3.0  120.00  \n",
       "2       1440   2.0      3.0   62.00  \n",
       "3       1521   3.0      1.0   95.00  \n",
       "4       1200   2.0      1.0   51.00  "
      ]
     },
     "execution_count": 25,
     "metadata": {},
     "output_type": "execute_result"
    }
   ],
   "source": [
    "df.head()"
   ]
  },
  {
   "cell_type": "code",
   "execution_count": 26,
   "id": "367991eb",
   "metadata": {
    "scrolled": false
   },
   "outputs": [
    {
     "data": {
      "text/plain": [
       "2"
      ]
     },
     "execution_count": 26,
     "metadata": {},
     "output_type": "execute_result"
    }
   ],
   "source": [
    "# testing to replace size values, since we have no null values we will just convert values to integers as well \n",
    "import re\n",
    "int(re.search('\\d+', '2 BHK').group(0))"
   ]
  },
  {
   "cell_type": "code",
   "execution_count": 27,
   "id": "197cf3c9",
   "metadata": {},
   "outputs": [],
   "source": [
    "df['size'] = df['size'].apply(lambda s: int(re.search('\\d+', s).group(0)))"
   ]
  },
  {
   "cell_type": "code",
   "execution_count": 28,
   "id": "5815f874",
   "metadata": {},
   "outputs": [
    {
     "data": {
      "text/html": [
       "<div>\n",
       "<style scoped>\n",
       "    .dataframe tbody tr th:only-of-type {\n",
       "        vertical-align: middle;\n",
       "    }\n",
       "\n",
       "    .dataframe tbody tr th {\n",
       "        vertical-align: top;\n",
       "    }\n",
       "\n",
       "    .dataframe thead th {\n",
       "        text-align: right;\n",
       "    }\n",
       "</style>\n",
       "<table border=\"1\" class=\"dataframe\">\n",
       "  <thead>\n",
       "    <tr style=\"text-align: right;\">\n",
       "      <th></th>\n",
       "      <th>area_type</th>\n",
       "      <th>availability</th>\n",
       "      <th>location</th>\n",
       "      <th>size</th>\n",
       "      <th>total_sqft</th>\n",
       "      <th>bath</th>\n",
       "      <th>balcony</th>\n",
       "      <th>price</th>\n",
       "    </tr>\n",
       "  </thead>\n",
       "  <tbody>\n",
       "    <tr>\n",
       "      <th>0</th>\n",
       "      <td>Super built-up  Area</td>\n",
       "      <td>19-Dec</td>\n",
       "      <td>Electronic City Phase II</td>\n",
       "      <td>2</td>\n",
       "      <td>1056</td>\n",
       "      <td>2.0</td>\n",
       "      <td>1.0</td>\n",
       "      <td>39.07</td>\n",
       "    </tr>\n",
       "    <tr>\n",
       "      <th>1</th>\n",
       "      <td>Plot  Area</td>\n",
       "      <td>Ready To Move</td>\n",
       "      <td>Chikka Tirupathi</td>\n",
       "      <td>4</td>\n",
       "      <td>2600</td>\n",
       "      <td>5.0</td>\n",
       "      <td>3.0</td>\n",
       "      <td>120.00</td>\n",
       "    </tr>\n",
       "    <tr>\n",
       "      <th>2</th>\n",
       "      <td>Built-up  Area</td>\n",
       "      <td>Ready To Move</td>\n",
       "      <td>Uttarahalli</td>\n",
       "      <td>3</td>\n",
       "      <td>1440</td>\n",
       "      <td>2.0</td>\n",
       "      <td>3.0</td>\n",
       "      <td>62.00</td>\n",
       "    </tr>\n",
       "    <tr>\n",
       "      <th>3</th>\n",
       "      <td>Super built-up  Area</td>\n",
       "      <td>Ready To Move</td>\n",
       "      <td>Lingadheeranahalli</td>\n",
       "      <td>3</td>\n",
       "      <td>1521</td>\n",
       "      <td>3.0</td>\n",
       "      <td>1.0</td>\n",
       "      <td>95.00</td>\n",
       "    </tr>\n",
       "    <tr>\n",
       "      <th>4</th>\n",
       "      <td>Super built-up  Area</td>\n",
       "      <td>Ready To Move</td>\n",
       "      <td>Kothanur</td>\n",
       "      <td>2</td>\n",
       "      <td>1200</td>\n",
       "      <td>2.0</td>\n",
       "      <td>1.0</td>\n",
       "      <td>51.00</td>\n",
       "    </tr>\n",
       "  </tbody>\n",
       "</table>\n",
       "</div>"
      ],
      "text/plain": [
       "              area_type   availability                  location  size  \\\n",
       "0  Super built-up  Area         19-Dec  Electronic City Phase II     2   \n",
       "1            Plot  Area  Ready To Move          Chikka Tirupathi     4   \n",
       "2        Built-up  Area  Ready To Move               Uttarahalli     3   \n",
       "3  Super built-up  Area  Ready To Move        Lingadheeranahalli     3   \n",
       "4  Super built-up  Area  Ready To Move                  Kothanur     2   \n",
       "\n",
       "  total_sqft  bath  balcony   price  \n",
       "0       1056   2.0      1.0   39.07  \n",
       "1       2600   5.0      3.0  120.00  \n",
       "2       1440   2.0      3.0   62.00  \n",
       "3       1521   3.0      1.0   95.00  \n",
       "4       1200   2.0      1.0   51.00  "
      ]
     },
     "execution_count": 28,
     "metadata": {},
     "output_type": "execute_result"
    }
   ],
   "source": [
    "df.head()"
   ]
  },
  {
   "cell_type": "code",
   "execution_count": 29,
   "id": "c327d725",
   "metadata": {},
   "outputs": [
    {
     "data": {
      "image/png": "[encoded data removed]",
      "text/plain": [
       "<Figure size 432x288 with 1 Axes>"
      ]
     },
     "metadata": {
      "needs_background": "light"
     },
     "output_type": "display_data"
    }
   ],
   "source": [
    "draw_g('size', 'price', df['size'], df.price, '+', 'red')"
   ]
  },
  {
   "cell_type": "code",
   "execution_count": 30,
   "id": "22ce6bdf",
   "metadata": {},
   "outputs": [],
   "source": [
    "df.availability = df.availability.apply(lambda a: '22-dec-2017' if a=='Ready To Move' else (a+'-2017').lower())"
   ]
  },
  {
   "cell_type": "code",
   "execution_count": 31,
   "id": "d80f5c7d",
   "metadata": {},
   "outputs": [
    {
     "data": {
      "text/plain": [
       "0        19-dec-2017\n",
       "1        22-dec-2017\n",
       "2        22-dec-2017\n",
       "3        22-dec-2017\n",
       "4        22-dec-2017\n",
       "            ...     \n",
       "13315    22-dec-2017\n",
       "13316    22-dec-2017\n",
       "13317    22-dec-2017\n",
       "13318    18-jun-2017\n",
       "13319    22-dec-2017\n",
       "Name: availability, Length: 13303, dtype: object"
      ]
     },
     "execution_count": 31,
     "metadata": {},
     "output_type": "execute_result"
    }
   ],
   "source": [
    "df.availability"
   ]
  },
  {
   "cell_type": "code",
   "execution_count": 32,
   "id": "2c985291",
   "metadata": {},
   "outputs": [],
   "source": [
    "import time\n",
    "import datetime"
   ]
  },
  {
   "cell_type": "code",
   "execution_count": 33,
   "id": "720d8c48",
   "metadata": {},
   "outputs": [],
   "source": [
    "def convert_string_month_to_num_equivalent (day):\n",
    "    \n",
    "    if (not isinstance(day, str)):\n",
    "        return -1\n",
    "    \n",
    "    day = day.lower()\n",
    "    \n",
    "    if (re.match('jan', day)):\n",
    "        return 1\n",
    "    if (re.match('feb', day)):\n",
    "        return 2   \n",
    "    if (re.match('mar', day)):\n",
    "        return 3       \n",
    "    if (re.match('apr', day)):\n",
    "        return 4   \n",
    "    if (re.match('may', day)):\n",
    "        return 5     \n",
    "    if (re.match('jun', day)):\n",
    "        return 6    \n",
    "    if (re.match('jul', day)):\n",
    "        return 7 \n",
    "    if (re.match('aug', day)):\n",
    "        return 8  \n",
    "    if (re.match('sep', day)):\n",
    "        return 9 \n",
    "    if (re.match('oct', day)):\n",
    "        return 10  \n",
    "    if (re.match('nov', day)):\n",
    "        return 11     \n",
    "    if (re.match('dec', day)):\n",
    "        return 12 \n",
    "    \n",
    "    return -1\n",
    "    \n",
    "def convert_string_date_to_timestamp (string_date):\n",
    "# time stamp solutions: https://stackoverflow.com/questions/9637838/convert-string-date-to-timestamp-in-python#answer-9637908    \n",
    "    [ day, month, year ] = string_date.split('-')\n",
    "    month = convert_string_month_to_num_equivalent(month)\n",
    "    if (month==-1): \n",
    "        month = 12\n",
    "    \n",
    "    try:\n",
    "        day_ = int(day)\n",
    "    except(ValueError):\n",
    "        day = 31\n",
    "        \n",
    "        \n",
    "    try:\n",
    "        year = int(year)\n",
    "    except(ValueError):\n",
    "        year = 2017        \n",
    "            \n",
    "    t = \"{day}/{month}/{year}\".format(day=day, month=month, year=year)\n",
    "    stamp = time.mktime(datetime.datetime.strptime(t, \"%d/%m/%Y\").timetuple())\n",
    "    return stamp\n",
    "    "
   ]
  },
  {
   "cell_type": "code",
   "execution_count": 34,
   "id": "bf47d5a2",
   "metadata": {},
   "outputs": [],
   "source": [
    "df.availability = df.availability.apply(lambda x : convert_string_date_to_timestamp(x)) "
   ]
  },
  {
   "cell_type": "code",
   "execution_count": 35,
   "id": "0b69bfc0",
   "metadata": {},
   "outputs": [
    {
     "data": {
      "text/html": [
       "<div>\n",
       "<style scoped>\n",
       "    .dataframe tbody tr th:only-of-type {\n",
       "        vertical-align: middle;\n",
       "    }\n",
       "\n",
       "    .dataframe tbody tr th {\n",
       "        vertical-align: top;\n",
       "    }\n",
       "\n",
       "    .dataframe thead th {\n",
       "        text-align: right;\n",
       "    }\n",
       "</style>\n",
       "<table border=\"1\" class=\"dataframe\">\n",
       "  <thead>\n",
       "    <tr style=\"text-align: right;\">\n",
       "      <th></th>\n",
       "      <th>availability</th>\n",
       "      <th>size</th>\n",
       "      <th>bath</th>\n",
       "      <th>balcony</th>\n",
       "      <th>price</th>\n",
       "      <th>area_type_Carpet  Area</th>\n",
       "      <th>area_type_Plot  Area</th>\n",
       "      <th>area_type_Super built-up  Area</th>\n",
       "      <th>location_ Banaswadi</th>\n",
       "      <th>location_ Basavangudi</th>\n",
       "      <th>...</th>\n",
       "      <th>total_sqft_990</th>\n",
       "      <th>total_sqft_991</th>\n",
       "      <th>total_sqft_992</th>\n",
       "      <th>total_sqft_993</th>\n",
       "      <th>total_sqft_994</th>\n",
       "      <th>total_sqft_995</th>\n",
       "      <th>total_sqft_996</th>\n",
       "      <th>total_sqft_997</th>\n",
       "      <th>total_sqft_998</th>\n",
       "      <th>total_sqft_999</th>\n",
       "    </tr>\n",
       "  </thead>\n",
       "  <tbody>\n",
       "    <tr>\n",
       "      <th>0</th>\n",
       "      <td>1.513642e+09</td>\n",
       "      <td>2</td>\n",
       "      <td>2.0</td>\n",
       "      <td>1.0</td>\n",
       "      <td>39.07</td>\n",
       "      <td>0</td>\n",
       "      <td>0</td>\n",
       "      <td>1</td>\n",
       "      <td>0</td>\n",
       "      <td>0</td>\n",
       "      <td>...</td>\n",
       "      <td>0</td>\n",
       "      <td>0</td>\n",
       "      <td>0</td>\n",
       "      <td>0</td>\n",
       "      <td>0</td>\n",
       "      <td>0</td>\n",
       "      <td>0</td>\n",
       "      <td>0</td>\n",
       "      <td>0</td>\n",
       "      <td>0</td>\n",
       "    </tr>\n",
       "    <tr>\n",
       "      <th>1</th>\n",
       "      <td>1.513901e+09</td>\n",
       "      <td>4</td>\n",
       "      <td>5.0</td>\n",
       "      <td>3.0</td>\n",
       "      <td>120.00</td>\n",
       "      <td>0</td>\n",
       "      <td>1</td>\n",
       "      <td>0</td>\n",
       "      <td>0</td>\n",
       "      <td>0</td>\n",
       "      <td>...</td>\n",
       "      <td>0</td>\n",
       "      <td>0</td>\n",
       "      <td>0</td>\n",
       "      <td>0</td>\n",
       "      <td>0</td>\n",
       "      <td>0</td>\n",
       "      <td>0</td>\n",
       "      <td>0</td>\n",
       "      <td>0</td>\n",
       "      <td>0</td>\n",
       "    </tr>\n",
       "    <tr>\n",
       "      <th>2</th>\n",
       "      <td>1.513901e+09</td>\n",
       "      <td>3</td>\n",
       "      <td>2.0</td>\n",
       "      <td>3.0</td>\n",
       "      <td>62.00</td>\n",
       "      <td>0</td>\n",
       "      <td>0</td>\n",
       "      <td>0</td>\n",
       "      <td>0</td>\n",
       "      <td>0</td>\n",
       "      <td>...</td>\n",
       "      <td>0</td>\n",
       "      <td>0</td>\n",
       "      <td>0</td>\n",
       "      <td>0</td>\n",
       "      <td>0</td>\n",
       "      <td>0</td>\n",
       "      <td>0</td>\n",
       "      <td>0</td>\n",
       "      <td>0</td>\n",
       "      <td>0</td>\n",
       "    </tr>\n",
       "    <tr>\n",
       "      <th>3</th>\n",
       "      <td>1.513901e+09</td>\n",
       "      <td>3</td>\n",
       "      <td>3.0</td>\n",
       "      <td>1.0</td>\n",
       "      <td>95.00</td>\n",
       "      <td>0</td>\n",
       "      <td>0</td>\n",
       "      <td>1</td>\n",
       "      <td>0</td>\n",
       "      <td>0</td>\n",
       "      <td>...</td>\n",
       "      <td>0</td>\n",
       "      <td>0</td>\n",
       "      <td>0</td>\n",
       "      <td>0</td>\n",
       "      <td>0</td>\n",
       "      <td>0</td>\n",
       "      <td>0</td>\n",
       "      <td>0</td>\n",
       "      <td>0</td>\n",
       "      <td>0</td>\n",
       "    </tr>\n",
       "    <tr>\n",
       "      <th>4</th>\n",
       "      <td>1.513901e+09</td>\n",
       "      <td>2</td>\n",
       "      <td>2.0</td>\n",
       "      <td>1.0</td>\n",
       "      <td>51.00</td>\n",
       "      <td>0</td>\n",
       "      <td>0</td>\n",
       "      <td>1</td>\n",
       "      <td>0</td>\n",
       "      <td>0</td>\n",
       "      <td>...</td>\n",
       "      <td>0</td>\n",
       "      <td>0</td>\n",
       "      <td>0</td>\n",
       "      <td>0</td>\n",
       "      <td>0</td>\n",
       "      <td>0</td>\n",
       "      <td>0</td>\n",
       "      <td>0</td>\n",
       "      <td>0</td>\n",
       "      <td>0</td>\n",
       "    </tr>\n",
       "    <tr>\n",
       "      <th>...</th>\n",
       "      <td>...</td>\n",
       "      <td>...</td>\n",
       "      <td>...</td>\n",
       "      <td>...</td>\n",
       "      <td>...</td>\n",
       "      <td>...</td>\n",
       "      <td>...</td>\n",
       "      <td>...</td>\n",
       "      <td>...</td>\n",
       "      <td>...</td>\n",
       "      <td>...</td>\n",
       "      <td>...</td>\n",
       "      <td>...</td>\n",
       "      <td>...</td>\n",
       "      <td>...</td>\n",
       "      <td>...</td>\n",
       "      <td>...</td>\n",
       "      <td>...</td>\n",
       "      <td>...</td>\n",
       "      <td>...</td>\n",
       "      <td>...</td>\n",
       "    </tr>\n",
       "    <tr>\n",
       "      <th>13315</th>\n",
       "      <td>1.513901e+09</td>\n",
       "      <td>5</td>\n",
       "      <td>4.0</td>\n",
       "      <td>0.0</td>\n",
       "      <td>231.00</td>\n",
       "      <td>0</td>\n",
       "      <td>0</td>\n",
       "      <td>0</td>\n",
       "      <td>0</td>\n",
       "      <td>0</td>\n",
       "      <td>...</td>\n",
       "      <td>0</td>\n",
       "      <td>0</td>\n",
       "      <td>0</td>\n",
       "      <td>0</td>\n",
       "      <td>0</td>\n",
       "      <td>0</td>\n",
       "      <td>0</td>\n",
       "      <td>0</td>\n",
       "      <td>0</td>\n",
       "      <td>0</td>\n",
       "    </tr>\n",
       "    <tr>\n",
       "      <th>13316</th>\n",
       "      <td>1.513901e+09</td>\n",
       "      <td>4</td>\n",
       "      <td>5.0</td>\n",
       "      <td>0.0</td>\n",
       "      <td>400.00</td>\n",
       "      <td>0</td>\n",
       "      <td>0</td>\n",
       "      <td>1</td>\n",
       "      <td>0</td>\n",
       "      <td>0</td>\n",
       "      <td>...</td>\n",
       "      <td>0</td>\n",
       "      <td>0</td>\n",
       "      <td>0</td>\n",
       "      <td>0</td>\n",
       "      <td>0</td>\n",
       "      <td>0</td>\n",
       "      <td>0</td>\n",
       "      <td>0</td>\n",
       "      <td>0</td>\n",
       "      <td>0</td>\n",
       "    </tr>\n",
       "    <tr>\n",
       "      <th>13317</th>\n",
       "      <td>1.513901e+09</td>\n",
       "      <td>2</td>\n",
       "      <td>2.0</td>\n",
       "      <td>1.0</td>\n",
       "      <td>60.00</td>\n",
       "      <td>0</td>\n",
       "      <td>0</td>\n",
       "      <td>0</td>\n",
       "      <td>0</td>\n",
       "      <td>0</td>\n",
       "      <td>...</td>\n",
       "      <td>0</td>\n",
       "      <td>0</td>\n",
       "      <td>0</td>\n",
       "      <td>0</td>\n",
       "      <td>0</td>\n",
       "      <td>0</td>\n",
       "      <td>0</td>\n",
       "      <td>0</td>\n",
       "      <td>0</td>\n",
       "      <td>0</td>\n",
       "    </tr>\n",
       "    <tr>\n",
       "      <th>13318</th>\n",
       "      <td>1.497740e+09</td>\n",
       "      <td>4</td>\n",
       "      <td>4.0</td>\n",
       "      <td>1.0</td>\n",
       "      <td>488.00</td>\n",
       "      <td>0</td>\n",
       "      <td>0</td>\n",
       "      <td>1</td>\n",
       "      <td>0</td>\n",
       "      <td>0</td>\n",
       "      <td>...</td>\n",
       "      <td>0</td>\n",
       "      <td>0</td>\n",
       "      <td>0</td>\n",
       "      <td>0</td>\n",
       "      <td>0</td>\n",
       "      <td>0</td>\n",
       "      <td>0</td>\n",
       "      <td>0</td>\n",
       "      <td>0</td>\n",
       "      <td>0</td>\n",
       "    </tr>\n",
       "    <tr>\n",
       "      <th>13319</th>\n",
       "      <td>1.513901e+09</td>\n",
       "      <td>1</td>\n",
       "      <td>1.0</td>\n",
       "      <td>1.0</td>\n",
       "      <td>17.00</td>\n",
       "      <td>0</td>\n",
       "      <td>0</td>\n",
       "      <td>1</td>\n",
       "      <td>0</td>\n",
       "      <td>0</td>\n",
       "      <td>...</td>\n",
       "      <td>0</td>\n",
       "      <td>0</td>\n",
       "      <td>0</td>\n",
       "      <td>0</td>\n",
       "      <td>0</td>\n",
       "      <td>0</td>\n",
       "      <td>0</td>\n",
       "      <td>0</td>\n",
       "      <td>0</td>\n",
       "      <td>0</td>\n",
       "    </tr>\n",
       "  </tbody>\n",
       "</table>\n",
       "<p>13303 rows × 3420 columns</p>\n",
       "</div>"
      ],
      "text/plain": [
       "       availability  size  bath  balcony   price  area_type_Carpet  Area  \\\n",
       "0      1.513642e+09     2   2.0      1.0   39.07                       0   \n",
       "1      1.513901e+09     4   5.0      3.0  120.00                       0   \n",
       "2      1.513901e+09     3   2.0      3.0   62.00                       0   \n",
       "3      1.513901e+09     3   3.0      1.0   95.00                       0   \n",
       "4      1.513901e+09     2   2.0      1.0   51.00                       0   \n",
       "...             ...   ...   ...      ...     ...                     ...   \n",
       "13315  1.513901e+09     5   4.0      0.0  231.00                       0   \n",
       "13316  1.513901e+09     4   5.0      0.0  400.00                       0   \n",
       "13317  1.513901e+09     2   2.0      1.0   60.00                       0   \n",
       "13318  1.497740e+09     4   4.0      1.0  488.00                       0   \n",
       "13319  1.513901e+09     1   1.0      1.0   17.00                       0   \n",
       "\n",
       "       area_type_Plot  Area  area_type_Super built-up  Area  \\\n",
       "0                         0                               1   \n",
       "1                         1                               0   \n",
       "2                         0                               0   \n",
       "3                         0                               1   \n",
       "4                         0                               1   \n",
       "...                     ...                             ...   \n",
       "13315                     0                               0   \n",
       "13316                     0                               1   \n",
       "13317                     0                               0   \n",
       "13318                     0                               1   \n",
       "13319                     0                               1   \n",
       "\n",
       "       location_ Banaswadi  location_ Basavangudi  ...  total_sqft_990  \\\n",
       "0                        0                      0  ...               0   \n",
       "1                        0                      0  ...               0   \n",
       "2                        0                      0  ...               0   \n",
       "3                        0                      0  ...               0   \n",
       "4                        0                      0  ...               0   \n",
       "...                    ...                    ...  ...             ...   \n",
       "13315                    0                      0  ...               0   \n",
       "13316                    0                      0  ...               0   \n",
       "13317                    0                      0  ...               0   \n",
       "13318                    0                      0  ...               0   \n",
       "13319                    0                      0  ...               0   \n",
       "\n",
       "       total_sqft_991  total_sqft_992  total_sqft_993  total_sqft_994  \\\n",
       "0                   0               0               0               0   \n",
       "1                   0               0               0               0   \n",
       "2                   0               0               0               0   \n",
       "3                   0               0               0               0   \n",
       "4                   0               0               0               0   \n",
       "...               ...             ...             ...             ...   \n",
       "13315               0               0               0               0   \n",
       "13316               0               0               0               0   \n",
       "13317               0               0               0               0   \n",
       "13318               0               0               0               0   \n",
       "13319               0               0               0               0   \n",
       "\n",
       "       total_sqft_995  total_sqft_996  total_sqft_997  total_sqft_998  \\\n",
       "0                   0               0               0               0   \n",
       "1                   0               0               0               0   \n",
       "2                   0               0               0               0   \n",
       "3                   0               0               0               0   \n",
       "4                   0               0               0               0   \n",
       "...               ...             ...             ...             ...   \n",
       "13315               0               0               0               0   \n",
       "13316               0               0               0               0   \n",
       "13317               0               0               0               0   \n",
       "13318               0               0               0               0   \n",
       "13319               0               0               0               0   \n",
       "\n",
       "       total_sqft_999  \n",
       "0                   0  \n",
       "1                   0  \n",
       "2                   0  \n",
       "3                   0  \n",
       "4                   0  \n",
       "...               ...  \n",
       "13315               0  \n",
       "13316               0  \n",
       "13317               0  \n",
       "13318               0  \n",
       "13319               0  \n",
       "\n",
       "[13303 rows x 3420 columns]"
      ]
     },
     "execution_count": 35,
     "metadata": {},
     "output_type": "execute_result"
    }
   ],
   "source": [
    "pd.get_dummies(df, drop_first=True)"
   ]
  },
  {
   "cell_type": "code",
   "execution_count": 36,
   "id": "bbe2a715",
   "metadata": {},
   "outputs": [],
   "source": [
    "# for k in list(df.total_sqft):\n",
    "#     print(type(k), k)"
   ]
  },
  {
   "cell_type": "markdown",
   "id": "b0eea864",
   "metadata": {},
   "source": [
    "<h3>Turns out <b>total_sqft</b> column is of type string, but should be list of integers instead, also some values are ranges whilst  other include words, so we need to fix this by</h3>\n",
    "\n",
    "\n",
    "<ul>\n",
    "    <li>We will strip off non digits and convert into int</li>    \n",
    "    <li>If we have a range, we will take the average</li>\n",
    "</ul>"
   ]
  },
  {
   "cell_type": "code",
   "execution_count": 37,
   "id": "28cebc0c",
   "metadata": {},
   "outputs": [
    {
     "data": {
      "text/plain": [
       "36.25"
      ]
     },
     "execution_count": 37,
     "metadata": {},
     "output_type": "execute_result"
    }
   ],
   "source": [
    "import functools\n",
    "import numpy as np\n",
    "\n",
    "def clean_sqft (data):\n",
    "    matches = re.findall('\\d+', data)\n",
    "    if len(matches)==0:\n",
    "        return np.na\n",
    "    \n",
    "    if (len(matches)==1):\n",
    "        return int(matches[0])\n",
    "    \n",
    "\n",
    "    return functools.reduce((lambda a, b: int(a)+int(b)), matches) / len(matches)\n",
    "    \n",
    "    \n",
    "    \n",
    "clean_sqft('10 - 20 fdsfds- 25 - 90nice')"
   ]
  },
  {
   "cell_type": "code",
   "execution_count": 38,
   "id": "188b4a66",
   "metadata": {
    "scrolled": true
   },
   "outputs": [],
   "source": [
    "df.total_sqft = df.total_sqft.apply(lambda x: clean_sqft(x)  )\n",
    "df.dropna(axis=\"rows\", subset=['total_sqft'], inplace=True)"
   ]
  },
  {
   "cell_type": "code",
   "execution_count": 39,
   "id": "3085d1b3",
   "metadata": {},
   "outputs": [],
   "source": [
    "df.location = df.location.apply(lambda l: l.strip())"
   ]
  },
  {
   "cell_type": "code",
   "execution_count": 40,
   "id": "16661634",
   "metadata": {},
   "outputs": [],
   "source": [
    "locationsummary = df.groupby('location')['location'].count()"
   ]
  },
  {
   "cell_type": "code",
   "execution_count": 41,
   "id": "9d790b7b",
   "metadata": {},
   "outputs": [
    {
     "data": {
      "text/plain": [
       "28"
      ]
     },
     "execution_count": 41,
     "metadata": {},
     "output_type": "execute_result"
    }
   ],
   "source": [
    "locationsummary['Padmanabhanagar']"
   ]
  },
  {
   "cell_type": "code",
   "execution_count": 42,
   "id": "29912883",
   "metadata": {},
   "outputs": [],
   "source": [
    "def retloc (loc):\n",
    "    loc = loc.strip()\n",
    "    try:\n",
    "        return locationsummary[loc]\n",
    "    except (KeyError):\n",
    "        return 0\n",
    "    \n",
    "    return loc"
   ]
  },
  {
   "cell_type": "code",
   "execution_count": 43,
   "id": "257f4318",
   "metadata": {},
   "outputs": [],
   "source": [
    "# extract data points which are above the 6 standard deviations away from the mean\n",
    "stdloc = locationsummary.std()\n",
    "meanloc = locationsummary.mean()\n",
    "quartile = meanloc + (6*stdloc) \n",
    "df['location-freq'] = df.location.apply(retloc)"
   ]
  },
  {
   "cell_type": "code",
   "execution_count": 44,
   "id": "290b4c4a",
   "metadata": {},
   "outputs": [
    {
     "data": {
      "text/plain": [
       "{'Electronic City': 304,\n",
       " 'Kanakpura Road': 273,\n",
       " 'Sarjapur  Road': 397,\n",
       " 'Thanisandra': 237,\n",
       " 'Whitefield': 540,\n",
       " 'Yelahanka': 212}"
      ]
     },
     "execution_count": 44,
     "metadata": {},
     "output_type": "execute_result"
    }
   ],
   "source": [
    "filterLocation = df[df['location-freq'] > quartile].groupby('location')['location'].count().to_dict()\n",
    "filterLocation"
   ]
  },
  {
   "cell_type": "code",
   "execution_count": 45,
   "id": "eb42a35a",
   "metadata": {},
   "outputs": [],
   "source": [
    "prev_loc_freq_categories = len(df.location.unique())"
   ]
  },
  {
   "cell_type": "code",
   "execution_count": 46,
   "id": "8386e8a4",
   "metadata": {},
   "outputs": [],
   "source": [
    "df.location = df.location.apply(lambda l: l if l in filterLocation else 'other')"
   ]
  },
  {
   "cell_type": "code",
   "execution_count": 47,
   "id": "1f38431e",
   "metadata": {},
   "outputs": [
    {
     "name": "stdout",
     "output_type": "stream",
     "text": [
      "before 1293 after 7\n"
     ]
    }
   ],
   "source": [
    "print('before', prev_loc_freq_categories, 'after', len(df.location.unique()))"
   ]
  },
  {
   "cell_type": "code",
   "execution_count": 48,
   "id": "8cc933d4",
   "metadata": {},
   "outputs": [],
   "source": [
    "df = pd.get_dummies(df, drop_first=True)"
   ]
  },
  {
   "cell_type": "code",
   "execution_count": 49,
   "id": "2b157093",
   "metadata": {},
   "outputs": [
    {
     "data": {
      "text/plain": [
       "Index(['availability', 'size', 'total_sqft', 'bath', 'balcony', 'price',\n",
       "       'location-freq', 'area_type_Carpet  Area', 'area_type_Plot  Area',\n",
       "       'area_type_Super built-up  Area', 'location_Kanakpura Road',\n",
       "       'location_Sarjapur  Road', 'location_Thanisandra',\n",
       "       'location_Whitefield', 'location_Yelahanka', 'location_other'],\n",
       "      dtype='object')"
      ]
     },
     "execution_count": 49,
     "metadata": {},
     "output_type": "execute_result"
    }
   ],
   "source": [
    "df.columns"
   ]
  },
  {
   "cell_type": "code",
   "execution_count": 50,
   "id": "b28fe0a4",
   "metadata": {
    "scrolled": true
   },
   "outputs": [
    {
     "data": {
      "image/png": "[encoded data removed]",
      "text/plain": [
       "<Figure size 432x288 with 1 Axes>"
      ]
     },
     "metadata": {
      "needs_background": "light"
     },
     "output_type": "display_data"
    }
   ],
   "source": [
    "draw_g('total square foot', 'size', df['total_sqft'], df['size'], '*', 'blue')"
   ]
  },
  {
   "cell_type": "markdown",
   "id": "17271cb5",
   "metadata": {},
   "source": [
    "<h3>Dealing with unrealistic values</h3>\n",
    "<p>Looking at the graph above, we can some data points which that seem to be outliers, for example a house of SQFT of 50,000 having just maybe 3 or bedrooms is not realistic. Likewise, a house of about 5000 square foot having more than 40 rooms is not realistc either.<p/>\n",
    "\n",
    "\n",
    "<p>Consequently, we will remove these values from our data by, finding the average ratio between TSQFT and SIZE, then we will remove anything more than 3 standard deviations away from this.</p>"
   ]
  },
  {
   "cell_type": "code",
   "execution_count": 51,
   "id": "136f45ed",
   "metadata": {},
   "outputs": [],
   "source": [
    "df['sqft_to_size_ratio'] = df.total_sqft / df['size']"
   ]
  },
  {
   "cell_type": "code",
   "execution_count": 52,
   "id": "322404f7",
   "metadata": {},
   "outputs": [],
   "source": [
    "mean = df['sqft_to_size_ratio'].mean()\n",
    "std = df['sqft_to_size_ratio'].std()\n",
    "threshold = mean + 3*std "
   ]
  },
  {
   "cell_type": "code",
   "execution_count": 53,
   "id": "76d20d11",
   "metadata": {
    "scrolled": true
   },
   "outputs": [
    {
     "data": {
      "text/plain": [
       "60.2718417277052"
      ]
     },
     "execution_count": 53,
     "metadata": {},
     "output_type": "execute_result"
    }
   ],
   "source": [
    "len(df) * (len((df[df.sqft_to_size_ratio>=threshold])) / len((df[df.sqft_to_size_ratio< threshold])))"
   ]
  },
  {
   "cell_type": "markdown",
   "id": "07946d24",
   "metadata": {},
   "source": [
    "<b>From above, we can see that we will be losing about 60 data points<b/>"
   ]
  },
  {
   "cell_type": "code",
   "execution_count": 54,
   "id": "8e046d1c",
   "metadata": {},
   "outputs": [],
   "source": [
    "df = df[df.sqft_to_size_ratio< threshold]"
   ]
  },
  {
   "cell_type": "code",
   "execution_count": 55,
   "id": "2a3320bf",
   "metadata": {
    "scrolled": true
   },
   "outputs": [
    {
     "data": {
      "image/png": "[encoded data removed]",
      "text/plain": [
       "<Figure size 432x288 with 1 Axes>"
      ]
     },
     "metadata": {
      "needs_background": "light"
     },
     "output_type": "display_data"
    }
   ],
   "source": [
    "draw_g('total square foot', 'size', df['total_sqft'], df['size'], '*', 'blue')"
   ]
  },
  {
   "cell_type": "markdown",
   "id": "85620655",
   "metadata": {},
   "source": [
    "<b>As we can see, the house at ~2000 with 40+ rooms is still here, we will remove this since this is most likely an anomaly </b>"
   ]
  },
  {
   "cell_type": "code",
   "execution_count": 56,
   "id": "e71d30a9",
   "metadata": {},
   "outputs": [
    {
     "data": {
      "text/html": [
       "<div>\n",
       "<style scoped>\n",
       "    .dataframe tbody tr th:only-of-type {\n",
       "        vertical-align: middle;\n",
       "    }\n",
       "\n",
       "    .dataframe tbody tr th {\n",
       "        vertical-align: top;\n",
       "    }\n",
       "\n",
       "    .dataframe thead th {\n",
       "        text-align: right;\n",
       "    }\n",
       "</style>\n",
       "<table border=\"1\" class=\"dataframe\">\n",
       "  <thead>\n",
       "    <tr style=\"text-align: right;\">\n",
       "      <th></th>\n",
       "      <th>availability</th>\n",
       "      <th>size</th>\n",
       "      <th>total_sqft</th>\n",
       "      <th>bath</th>\n",
       "      <th>balcony</th>\n",
       "      <th>price</th>\n",
       "      <th>location-freq</th>\n",
       "      <th>area_type_Carpet  Area</th>\n",
       "      <th>area_type_Plot  Area</th>\n",
       "      <th>area_type_Super built-up  Area</th>\n",
       "      <th>location_Kanakpura Road</th>\n",
       "      <th>location_Sarjapur  Road</th>\n",
       "      <th>location_Thanisandra</th>\n",
       "      <th>location_Whitefield</th>\n",
       "      <th>location_Yelahanka</th>\n",
       "      <th>location_other</th>\n",
       "      <th>sqft_to_size_ratio</th>\n",
       "    </tr>\n",
       "  </thead>\n",
       "  <tbody>\n",
       "    <tr>\n",
       "      <th>4684</th>\n",
       "      <td>1.513901e+09</td>\n",
       "      <td>43</td>\n",
       "      <td>2400.0</td>\n",
       "      <td>40.0</td>\n",
       "      <td>0.0</td>\n",
       "      <td>660.0</td>\n",
       "      <td>24</td>\n",
       "      <td>0</td>\n",
       "      <td>1</td>\n",
       "      <td>0</td>\n",
       "      <td>0</td>\n",
       "      <td>0</td>\n",
       "      <td>0</td>\n",
       "      <td>0</td>\n",
       "      <td>0</td>\n",
       "      <td>1</td>\n",
       "      <td>55.813953</td>\n",
       "    </tr>\n",
       "  </tbody>\n",
       "</table>\n",
       "</div>"
      ],
      "text/plain": [
       "      availability  size  total_sqft  bath  balcony  price  location-freq  \\\n",
       "4684  1.513901e+09    43      2400.0  40.0      0.0  660.0             24   \n",
       "\n",
       "      area_type_Carpet  Area  area_type_Plot  Area  \\\n",
       "4684                       0                     1   \n",
       "\n",
       "      area_type_Super built-up  Area  location_Kanakpura Road  \\\n",
       "4684                               0                        0   \n",
       "\n",
       "      location_Sarjapur  Road  location_Thanisandra  location_Whitefield  \\\n",
       "4684                        0                     0                    0   \n",
       "\n",
       "      location_Yelahanka  location_other  sqft_to_size_ratio  \n",
       "4684                   0               1           55.813953  "
      ]
     },
     "execution_count": 56,
     "metadata": {},
     "output_type": "execute_result"
    }
   ],
   "source": [
    "df[df['size']>40]"
   ]
  },
  {
   "cell_type": "code",
   "execution_count": 57,
   "id": "27da00db",
   "metadata": {},
   "outputs": [],
   "source": [
    "df.drop(axis=0, labels=[4684], inplace=True)"
   ]
  },
  {
   "cell_type": "code",
   "execution_count": 58,
   "id": "ee064df2",
   "metadata": {
    "scrolled": false
   },
   "outputs": [
    {
     "data": {
      "image/png": "[encoded data removed]",
      "text/plain": [
       "<Figure size 432x288 with 1 Axes>"
      ]
     },
     "metadata": {
      "needs_background": "light"
     },
     "output_type": "display_data"
    }
   ],
   "source": [
    "draw_g('total square foot', 'size', df['total_sqft'], df['size'], '*', 'blue')"
   ]
  },
  {
   "cell_type": "code",
   "execution_count": 59,
   "id": "0b49cee2",
   "metadata": {
    "scrolled": true
   },
   "outputs": [
    {
     "data": {
      "text/html": [
       "<div>\n",
       "<style scoped>\n",
       "    .dataframe tbody tr th:only-of-type {\n",
       "        vertical-align: middle;\n",
       "    }\n",
       "\n",
       "    .dataframe tbody tr th {\n",
       "        vertical-align: top;\n",
       "    }\n",
       "\n",
       "    .dataframe thead th {\n",
       "        text-align: right;\n",
       "    }\n",
       "</style>\n",
       "<table border=\"1\" class=\"dataframe\">\n",
       "  <thead>\n",
       "    <tr style=\"text-align: right;\">\n",
       "      <th></th>\n",
       "      <th>availability</th>\n",
       "      <th>size</th>\n",
       "      <th>total_sqft</th>\n",
       "      <th>bath</th>\n",
       "      <th>balcony</th>\n",
       "      <th>price</th>\n",
       "      <th>location-freq</th>\n",
       "      <th>area_type_Carpet  Area</th>\n",
       "      <th>area_type_Plot  Area</th>\n",
       "      <th>area_type_Super built-up  Area</th>\n",
       "      <th>location_Kanakpura Road</th>\n",
       "      <th>location_Sarjapur  Road</th>\n",
       "      <th>location_Thanisandra</th>\n",
       "      <th>location_Whitefield</th>\n",
       "      <th>location_Yelahanka</th>\n",
       "      <th>location_other</th>\n",
       "      <th>sqft_to_size_ratio</th>\n",
       "    </tr>\n",
       "  </thead>\n",
       "  <tbody>\n",
       "    <tr>\n",
       "      <th>0</th>\n",
       "      <td>1.513642e+09</td>\n",
       "      <td>2</td>\n",
       "      <td>1056.0</td>\n",
       "      <td>2.0</td>\n",
       "      <td>1.0</td>\n",
       "      <td>39.07</td>\n",
       "      <td>132</td>\n",
       "      <td>0</td>\n",
       "      <td>0</td>\n",
       "      <td>1</td>\n",
       "      <td>0</td>\n",
       "      <td>0</td>\n",
       "      <td>0</td>\n",
       "      <td>0</td>\n",
       "      <td>0</td>\n",
       "      <td>1</td>\n",
       "      <td>528.0</td>\n",
       "    </tr>\n",
       "    <tr>\n",
       "      <th>1</th>\n",
       "      <td>1.513901e+09</td>\n",
       "      <td>4</td>\n",
       "      <td>2600.0</td>\n",
       "      <td>5.0</td>\n",
       "      <td>3.0</td>\n",
       "      <td>120.00</td>\n",
       "      <td>17</td>\n",
       "      <td>0</td>\n",
       "      <td>1</td>\n",
       "      <td>0</td>\n",
       "      <td>0</td>\n",
       "      <td>0</td>\n",
       "      <td>0</td>\n",
       "      <td>0</td>\n",
       "      <td>0</td>\n",
       "      <td>1</td>\n",
       "      <td>650.0</td>\n",
       "    </tr>\n",
       "    <tr>\n",
       "      <th>2</th>\n",
       "      <td>1.513901e+09</td>\n",
       "      <td>3</td>\n",
       "      <td>1440.0</td>\n",
       "      <td>2.0</td>\n",
       "      <td>3.0</td>\n",
       "      <td>62.00</td>\n",
       "      <td>186</td>\n",
       "      <td>0</td>\n",
       "      <td>0</td>\n",
       "      <td>0</td>\n",
       "      <td>0</td>\n",
       "      <td>0</td>\n",
       "      <td>0</td>\n",
       "      <td>0</td>\n",
       "      <td>0</td>\n",
       "      <td>1</td>\n",
       "      <td>480.0</td>\n",
       "    </tr>\n",
       "    <tr>\n",
       "      <th>3</th>\n",
       "      <td>1.513901e+09</td>\n",
       "      <td>3</td>\n",
       "      <td>1521.0</td>\n",
       "      <td>3.0</td>\n",
       "      <td>1.0</td>\n",
       "      <td>95.00</td>\n",
       "      <td>23</td>\n",
       "      <td>0</td>\n",
       "      <td>0</td>\n",
       "      <td>1</td>\n",
       "      <td>0</td>\n",
       "      <td>0</td>\n",
       "      <td>0</td>\n",
       "      <td>0</td>\n",
       "      <td>0</td>\n",
       "      <td>1</td>\n",
       "      <td>507.0</td>\n",
       "    </tr>\n",
       "    <tr>\n",
       "      <th>4</th>\n",
       "      <td>1.513901e+09</td>\n",
       "      <td>2</td>\n",
       "      <td>1200.0</td>\n",
       "      <td>2.0</td>\n",
       "      <td>1.0</td>\n",
       "      <td>51.00</td>\n",
       "      <td>66</td>\n",
       "      <td>0</td>\n",
       "      <td>0</td>\n",
       "      <td>1</td>\n",
       "      <td>0</td>\n",
       "      <td>0</td>\n",
       "      <td>0</td>\n",
       "      <td>0</td>\n",
       "      <td>0</td>\n",
       "      <td>1</td>\n",
       "      <td>600.0</td>\n",
       "    </tr>\n",
       "  </tbody>\n",
       "</table>\n",
       "</div>"
      ],
      "text/plain": [
       "   availability  size  total_sqft  bath  balcony   price  location-freq  \\\n",
       "0  1.513642e+09     2      1056.0   2.0      1.0   39.07            132   \n",
       "1  1.513901e+09     4      2600.0   5.0      3.0  120.00             17   \n",
       "2  1.513901e+09     3      1440.0   2.0      3.0   62.00            186   \n",
       "3  1.513901e+09     3      1521.0   3.0      1.0   95.00             23   \n",
       "4  1.513901e+09     2      1200.0   2.0      1.0   51.00             66   \n",
       "\n",
       "   area_type_Carpet  Area  area_type_Plot  Area  \\\n",
       "0                       0                     0   \n",
       "1                       0                     1   \n",
       "2                       0                     0   \n",
       "3                       0                     0   \n",
       "4                       0                     0   \n",
       "\n",
       "   area_type_Super built-up  Area  location_Kanakpura Road  \\\n",
       "0                               1                        0   \n",
       "1                               0                        0   \n",
       "2                               0                        0   \n",
       "3                               1                        0   \n",
       "4                               1                        0   \n",
       "\n",
       "   location_Sarjapur  Road  location_Thanisandra  location_Whitefield  \\\n",
       "0                        0                     0                    0   \n",
       "1                        0                     0                    0   \n",
       "2                        0                     0                    0   \n",
       "3                        0                     0                    0   \n",
       "4                        0                     0                    0   \n",
       "\n",
       "   location_Yelahanka  location_other  sqft_to_size_ratio  \n",
       "0                   0               1               528.0  \n",
       "1                   0               1               650.0  \n",
       "2                   0               1               480.0  \n",
       "3                   0               1               507.0  \n",
       "4                   0               1               600.0  "
      ]
     },
     "execution_count": 59,
     "metadata": {},
     "output_type": "execute_result"
    }
   ],
   "source": [
    "df.head()"
   ]
  },
  {
   "cell_type": "code",
   "execution_count": 60,
   "id": "ece88296",
   "metadata": {},
   "outputs": [],
   "source": [
    "df.drop('location-freq', axis=\"columns\", inplace=True)"
   ]
  },
  {
   "cell_type": "code",
   "execution_count": 61,
   "id": "741037c5",
   "metadata": {},
   "outputs": [
    {
     "data": {
      "text/html": [
       "<div>\n",
       "<style scoped>\n",
       "    .dataframe tbody tr th:only-of-type {\n",
       "        vertical-align: middle;\n",
       "    }\n",
       "\n",
       "    .dataframe tbody tr th {\n",
       "        vertical-align: top;\n",
       "    }\n",
       "\n",
       "    .dataframe thead th {\n",
       "        text-align: right;\n",
       "    }\n",
       "</style>\n",
       "<table border=\"1\" class=\"dataframe\">\n",
       "  <thead>\n",
       "    <tr style=\"text-align: right;\">\n",
       "      <th></th>\n",
       "      <th>availability</th>\n",
       "      <th>size</th>\n",
       "      <th>total_sqft</th>\n",
       "      <th>bath</th>\n",
       "      <th>balcony</th>\n",
       "      <th>price</th>\n",
       "      <th>area_type_Carpet  Area</th>\n",
       "      <th>area_type_Plot  Area</th>\n",
       "      <th>area_type_Super built-up  Area</th>\n",
       "      <th>location_Kanakpura Road</th>\n",
       "      <th>location_Sarjapur  Road</th>\n",
       "      <th>location_Thanisandra</th>\n",
       "      <th>location_Whitefield</th>\n",
       "      <th>location_Yelahanka</th>\n",
       "      <th>location_other</th>\n",
       "      <th>sqft_to_size_ratio</th>\n",
       "    </tr>\n",
       "  </thead>\n",
       "  <tbody>\n",
       "    <tr>\n",
       "      <th>0</th>\n",
       "      <td>1.513642e+09</td>\n",
       "      <td>2</td>\n",
       "      <td>1056.0</td>\n",
       "      <td>2.0</td>\n",
       "      <td>1.0</td>\n",
       "      <td>39.07</td>\n",
       "      <td>0</td>\n",
       "      <td>0</td>\n",
       "      <td>1</td>\n",
       "      <td>0</td>\n",
       "      <td>0</td>\n",
       "      <td>0</td>\n",
       "      <td>0</td>\n",
       "      <td>0</td>\n",
       "      <td>1</td>\n",
       "      <td>528.0</td>\n",
       "    </tr>\n",
       "    <tr>\n",
       "      <th>1</th>\n",
       "      <td>1.513901e+09</td>\n",
       "      <td>4</td>\n",
       "      <td>2600.0</td>\n",
       "      <td>5.0</td>\n",
       "      <td>3.0</td>\n",
       "      <td>120.00</td>\n",
       "      <td>0</td>\n",
       "      <td>1</td>\n",
       "      <td>0</td>\n",
       "      <td>0</td>\n",
       "      <td>0</td>\n",
       "      <td>0</td>\n",
       "      <td>0</td>\n",
       "      <td>0</td>\n",
       "      <td>1</td>\n",
       "      <td>650.0</td>\n",
       "    </tr>\n",
       "    <tr>\n",
       "      <th>2</th>\n",
       "      <td>1.513901e+09</td>\n",
       "      <td>3</td>\n",
       "      <td>1440.0</td>\n",
       "      <td>2.0</td>\n",
       "      <td>3.0</td>\n",
       "      <td>62.00</td>\n",
       "      <td>0</td>\n",
       "      <td>0</td>\n",
       "      <td>0</td>\n",
       "      <td>0</td>\n",
       "      <td>0</td>\n",
       "      <td>0</td>\n",
       "      <td>0</td>\n",
       "      <td>0</td>\n",
       "      <td>1</td>\n",
       "      <td>480.0</td>\n",
       "    </tr>\n",
       "    <tr>\n",
       "      <th>3</th>\n",
       "      <td>1.513901e+09</td>\n",
       "      <td>3</td>\n",
       "      <td>1521.0</td>\n",
       "      <td>3.0</td>\n",
       "      <td>1.0</td>\n",
       "      <td>95.00</td>\n",
       "      <td>0</td>\n",
       "      <td>0</td>\n",
       "      <td>1</td>\n",
       "      <td>0</td>\n",
       "      <td>0</td>\n",
       "      <td>0</td>\n",
       "      <td>0</td>\n",
       "      <td>0</td>\n",
       "      <td>1</td>\n",
       "      <td>507.0</td>\n",
       "    </tr>\n",
       "    <tr>\n",
       "      <th>4</th>\n",
       "      <td>1.513901e+09</td>\n",
       "      <td>2</td>\n",
       "      <td>1200.0</td>\n",
       "      <td>2.0</td>\n",
       "      <td>1.0</td>\n",
       "      <td>51.00</td>\n",
       "      <td>0</td>\n",
       "      <td>0</td>\n",
       "      <td>1</td>\n",
       "      <td>0</td>\n",
       "      <td>0</td>\n",
       "      <td>0</td>\n",
       "      <td>0</td>\n",
       "      <td>0</td>\n",
       "      <td>1</td>\n",
       "      <td>600.0</td>\n",
       "    </tr>\n",
       "  </tbody>\n",
       "</table>\n",
       "</div>"
      ],
      "text/plain": [
       "   availability  size  total_sqft  bath  balcony   price  \\\n",
       "0  1.513642e+09     2      1056.0   2.0      1.0   39.07   \n",
       "1  1.513901e+09     4      2600.0   5.0      3.0  120.00   \n",
       "2  1.513901e+09     3      1440.0   2.0      3.0   62.00   \n",
       "3  1.513901e+09     3      1521.0   3.0      1.0   95.00   \n",
       "4  1.513901e+09     2      1200.0   2.0      1.0   51.00   \n",
       "\n",
       "   area_type_Carpet  Area  area_type_Plot  Area  \\\n",
       "0                       0                     0   \n",
       "1                       0                     1   \n",
       "2                       0                     0   \n",
       "3                       0                     0   \n",
       "4                       0                     0   \n",
       "\n",
       "   area_type_Super built-up  Area  location_Kanakpura Road  \\\n",
       "0                               1                        0   \n",
       "1                               0                        0   \n",
       "2                               0                        0   \n",
       "3                               1                        0   \n",
       "4                               1                        0   \n",
       "\n",
       "   location_Sarjapur  Road  location_Thanisandra  location_Whitefield  \\\n",
       "0                        0                     0                    0   \n",
       "1                        0                     0                    0   \n",
       "2                        0                     0                    0   \n",
       "3                        0                     0                    0   \n",
       "4                        0                     0                    0   \n",
       "\n",
       "   location_Yelahanka  location_other  sqft_to_size_ratio  \n",
       "0                   0               1               528.0  \n",
       "1                   0               1               650.0  \n",
       "2                   0               1               480.0  \n",
       "3                   0               1               507.0  \n",
       "4                   0               1               600.0  "
      ]
     },
     "execution_count": 61,
     "metadata": {},
     "output_type": "execute_result"
    }
   ],
   "source": [
    "df.head()"
   ]
  },
  {
   "cell_type": "code",
   "execution_count": 62,
   "id": "9764d60b",
   "metadata": {},
   "outputs": [],
   "source": [
    "# draw_g('total square foot', 'size', df['total_sqft'], df['size'], '*', 'blue')"
   ]
  },
  {
   "cell_type": "code",
   "execution_count": 63,
   "id": "d46ebce7",
   "metadata": {},
   "outputs": [
    {
     "data": {
      "text/plain": [
       "Index(['availability', 'size', 'total_sqft', 'bath', 'balcony', 'price',\n",
       "       'area_type_Carpet  Area', 'area_type_Plot  Area',\n",
       "       'area_type_Super built-up  Area', 'location_Kanakpura Road',\n",
       "       'location_Sarjapur  Road', 'location_Thanisandra',\n",
       "       'location_Whitefield', 'location_Yelahanka', 'location_other',\n",
       "       'sqft_to_size_ratio'],\n",
       "      dtype='object')"
      ]
     },
     "execution_count": 63,
     "metadata": {},
     "output_type": "execute_result"
    }
   ],
   "source": [
    "df.columns"
   ]
  },
  {
   "cell_type": "code",
   "execution_count": 64,
   "id": "b32ee000",
   "metadata": {},
   "outputs": [],
   "source": [
    "df = df.rename(columns={ 'area_type_Carpet  Area':'area_type_Carpet', \n",
    "                   'area_type_Plot  Area':'area_type_Plot',\n",
    "                      'area_type_Super built-up  Area':'area_type_Super_built-up',\n",
    "                   'location_Kanakpura Road':'location_Kanakpura',\n",
    "                   'location_Sarjapur  Road':'location_Sarjapur'\n",
    "                  })"
   ]
  },
  {
   "cell_type": "code",
   "execution_count": 65,
   "id": "b51f77b6",
   "metadata": {},
   "outputs": [
    {
     "data": {
      "text/plain": [
       "Index(['availability', 'size', 'total_sqft', 'bath', 'balcony', 'price',\n",
       "       'area_type_Carpet', 'area_type_Plot', 'area_type_Super_built-up',\n",
       "       'location_Kanakpura', 'location_Sarjapur', 'location_Thanisandra',\n",
       "       'location_Whitefield', 'location_Yelahanka', 'location_other',\n",
       "       'sqft_to_size_ratio'],\n",
       "      dtype='object')"
      ]
     },
     "execution_count": 65,
     "metadata": {},
     "output_type": "execute_result"
    }
   ],
   "source": [
    "df.columns"
   ]
  },
  {
   "cell_type": "code",
   "execution_count": 66,
   "id": "80841c5e",
   "metadata": {},
   "outputs": [],
   "source": [
    "df.drop('sqft_to_size_ratio', axis=\"columns\", inplace=True)"
   ]
  },
  {
   "cell_type": "markdown",
   "id": "3cbc3b63",
   "metadata": {},
   "source": [
    "<h1>Model</h1>\n",
    "<p>Given we are trying to solve a regression problem, the i have opted to try out linear regression, L1 or lasso regression, with different parameters, and random forest (also with different parameters). We will then use grid search cv to make this possible and use cross validation in conjunction<p/>"
   ]
  },
  {
   "cell_type": "code",
   "execution_count": 67,
   "id": "8081f0b9",
   "metadata": {},
   "outputs": [],
   "source": [
    "from sklearn.model_selection import GridSearchCV\n",
    "from sklearn.linear_model import LinearRegression\n",
    "from sklearn.ensemble import RandomForestRegressor\n",
    "from sklearn.model_selection import train_test_split\n",
    "from sklearn.linear_model import Lasso"
   ]
  },
  {
   "cell_type": "code",
   "execution_count": 68,
   "id": "485bbb57",
   "metadata": {},
   "outputs": [],
   "source": [
    "X_ = df.drop('price', axis=\"columns\")"
   ]
  },
  {
   "cell_type": "code",
   "execution_count": 69,
   "id": "b36b2a21",
   "metadata": {},
   "outputs": [],
   "source": [
    "X_train, X_test, y_train, y_test = train_test_split(X_, df['price'], test_size=0.5, random_state=70) "
   ]
  },
  {
   "cell_type": "code",
   "execution_count": 70,
   "id": "4b93049b",
   "metadata": {},
   "outputs": [],
   "source": [
    "def findFit (model, params, cv_, trainX, trainY):\n",
    "    gcv = GridSearchCV(model, params, cv=cv_)\n",
    "    gcv.fit(trainX, trainY)\n",
    "    return gcv"
   ]
  },
  {
   "cell_type": "code",
   "execution_count": 71,
   "id": "3b60edd7",
   "metadata": {},
   "outputs": [],
   "source": [
    "lcv = findFit(LinearRegression(), {\n",
    "    'fit_intercept':[True, False],\n",
    "    'n_jobs':range(1, 15)\n",
    "                   }, 5, X_, df['price'])"
   ]
  },
  {
   "cell_type": "code",
   "execution_count": 72,
   "id": "fcac9212",
   "metadata": {
    "scrolled": false
   },
   "outputs": [
    {
     "data": {
      "text/plain": [
       "0.5969492841611272"
      ]
     },
     "execution_count": 72,
     "metadata": {},
     "output_type": "execute_result"
    }
   ],
   "source": [
    "lcv.score(X_test, y_test)"
   ]
  },
  {
   "cell_type": "code",
   "execution_count": 73,
   "id": "73799ea6",
   "metadata": {},
   "outputs": [],
   "source": [
    "rcv = findFit(RandomForestRegressor(), {\n",
    "    'n_estimators':[100, 150, 200, 250, 300],\n",
    "                   }, 10, X_, df['price'])"
   ]
  },
  {
   "cell_type": "code",
   "execution_count": 74,
   "id": "e3d3d40c",
   "metadata": {},
   "outputs": [
    {
     "data": {
      "text/plain": [
       "0.9172086151562633"
      ]
     },
     "execution_count": 74,
     "metadata": {},
     "output_type": "execute_result"
    }
   ],
   "source": [
    "rcv.score(X_test, y_test)"
   ]
  },
  {
   "cell_type": "code",
   "execution_count": 75,
   "id": "2fd3c8b3",
   "metadata": {},
   "outputs": [],
   "source": [
    "lassocv = findFit(Lasso(), {\n",
    "    'alpha':[0.1, 0.2, 0.3, 0.4, 0.5, 0.6, 0.7, 0.8],\n",
    "                   }, 10, X_, df['price'])"
   ]
  },
  {
   "cell_type": "code",
   "execution_count": 76,
   "id": "1f0dede3",
   "metadata": {
    "scrolled": false
   },
   "outputs": [
    {
     "data": {
      "text/plain": [
       "0.5967451101822849"
      ]
     },
     "execution_count": 76,
     "metadata": {},
     "output_type": "execute_result"
    }
   ],
   "source": [
    "lassocv.score(X_test, y_test)"
   ]
  },
  {
   "cell_type": "markdown",
   "id": "4fa9cf06",
   "metadata": {},
   "source": [
    "<h1>Model decision</h1>\n",
    "<p>Out of all the models, random forest worked the best, it took a long time as you would expect but we got a score of ~92% compared to the ~60% of lasso and regular linear regression.</p>\n",
    "\n",
    "<p>We will now save this to a joblib file so we can reuse the model.</p>"
   ]
  },
  {
   "cell_type": "code",
   "execution_count": 77,
   "id": "fd07996c",
   "metadata": {},
   "outputs": [
    {
     "data": {
      "text/html": [
       "<div>\n",
       "<style scoped>\n",
       "    .dataframe tbody tr th:only-of-type {\n",
       "        vertical-align: middle;\n",
       "    }\n",
       "\n",
       "    .dataframe tbody tr th {\n",
       "        vertical-align: top;\n",
       "    }\n",
       "\n",
       "    .dataframe thead th {\n",
       "        text-align: right;\n",
       "    }\n",
       "</style>\n",
       "<table border=\"1\" class=\"dataframe\">\n",
       "  <thead>\n",
       "    <tr style=\"text-align: right;\">\n",
       "      <th></th>\n",
       "      <th>params</th>\n",
       "      <th>rank_test_score</th>\n",
       "    </tr>\n",
       "  </thead>\n",
       "  <tbody>\n",
       "    <tr>\n",
       "      <th>0</th>\n",
       "      <td>{'n_estimators': 100}</td>\n",
       "      <td>2</td>\n",
       "    </tr>\n",
       "    <tr>\n",
       "      <th>1</th>\n",
       "      <td>{'n_estimators': 150}</td>\n",
       "      <td>1</td>\n",
       "    </tr>\n",
       "    <tr>\n",
       "      <th>2</th>\n",
       "      <td>{'n_estimators': 200}</td>\n",
       "      <td>4</td>\n",
       "    </tr>\n",
       "    <tr>\n",
       "      <th>3</th>\n",
       "      <td>{'n_estimators': 250}</td>\n",
       "      <td>5</td>\n",
       "    </tr>\n",
       "    <tr>\n",
       "      <th>4</th>\n",
       "      <td>{'n_estimators': 300}</td>\n",
       "      <td>3</td>\n",
       "    </tr>\n",
       "  </tbody>\n",
       "</table>\n",
       "</div>"
      ],
      "text/plain": [
       "                  params  rank_test_score\n",
       "0  {'n_estimators': 100}                2\n",
       "1  {'n_estimators': 150}                1\n",
       "2  {'n_estimators': 200}                4\n",
       "3  {'n_estimators': 250}                5\n",
       "4  {'n_estimators': 300}                3"
      ]
     },
     "execution_count": 77,
     "metadata": {},
     "output_type": "execute_result"
    }
   ],
   "source": [
    "pd.DataFrame(rcv.cv_results_)[['params', 'rank_test_score']]"
   ]
  },
  {
   "cell_type": "code",
   "execution_count": 78,
   "id": "63eaf785",
   "metadata": {},
   "outputs": [
    {
     "data": {
      "text/plain": [
       "['random_forest_model.joblib']"
      ]
     },
     "execution_count": 78,
     "metadata": {},
     "output_type": "execute_result"
    }
   ],
   "source": [
    "from joblib import dump, load\n",
    "dump(rcv, 'random_forest_model.joblib') "
   ]
  },
  {
   "cell_type": "code",
   "execution_count": 79,
   "id": "9bd4cb95",
   "metadata": {
    "scrolled": false
   },
   "outputs": [
    {
     "data": {
      "text/plain": [
       "Index(['availability', 'size', 'total_sqft', 'bath', 'balcony', 'price',\n",
       "       'area_type_Carpet', 'area_type_Plot', 'area_type_Super_built-up',\n",
       "       'location_Kanakpura', 'location_Sarjapur', 'location_Thanisandra',\n",
       "       'location_Whitefield', 'location_Yelahanka', 'location_other'],\n",
       "      dtype='object')"
      ]
     },
     "execution_count": 79,
     "metadata": {},
     "output_type": "execute_result"
    }
   ],
   "source": [
    "df.columns"
   ]
  },
  {
   "cell_type": "code",
   "execution_count": 80,
   "id": "f69e5954",
   "metadata": {},
   "outputs": [
    {
     "ename": "AttributeError",
     "evalue": "'DataFrame' object has no attribute 'area'",
     "output_type": "error",
     "traceback": [
      "\u001b[0;31m---------------------------------------------------------------------------\u001b[0m",
      "\u001b[0;31mAttributeError\u001b[0m                            Traceback (most recent call last)",
      "\u001b[0;32m<ipython-input-80-2f7d81754add>\u001b[0m in \u001b[0;36m<module>\u001b[0;34m\u001b[0m\n\u001b[0;32m----> 1\u001b[0;31m \u001b[0mdf\u001b[0m\u001b[0;34m.\u001b[0m\u001b[0marea\u001b[0m\u001b[0;34m\u001b[0m\u001b[0;34m\u001b[0m\u001b[0m\n\u001b[0m",
      "\u001b[0;32m~/opt/anaconda3/lib/python3.8/site-packages/pandas/core/generic.py\u001b[0m in \u001b[0;36m__getattr__\u001b[0;34m(self, name)\u001b[0m\n\u001b[1;32m   5463\u001b[0m             \u001b[0;32mif\u001b[0m \u001b[0mself\u001b[0m\u001b[0;34m.\u001b[0m\u001b[0m_info_axis\u001b[0m\u001b[0;34m.\u001b[0m\u001b[0m_can_hold_identifiers_and_holds_name\u001b[0m\u001b[0;34m(\u001b[0m\u001b[0mname\u001b[0m\u001b[0;34m)\u001b[0m\u001b[0;34m:\u001b[0m\u001b[0;34m\u001b[0m\u001b[0;34m\u001b[0m\u001b[0m\n\u001b[1;32m   5464\u001b[0m                 \u001b[0;32mreturn\u001b[0m \u001b[0mself\u001b[0m\u001b[0;34m[\u001b[0m\u001b[0mname\u001b[0m\u001b[0;34m]\u001b[0m\u001b[0;34m\u001b[0m\u001b[0;34m\u001b[0m\u001b[0m\n\u001b[0;32m-> 5465\u001b[0;31m             \u001b[0;32mreturn\u001b[0m \u001b[0mobject\u001b[0m\u001b[0;34m.\u001b[0m\u001b[0m__getattribute__\u001b[0m\u001b[0;34m(\u001b[0m\u001b[0mself\u001b[0m\u001b[0;34m,\u001b[0m \u001b[0mname\u001b[0m\u001b[0;34m)\u001b[0m\u001b[0;34m\u001b[0m\u001b[0;34m\u001b[0m\u001b[0m\n\u001b[0m\u001b[1;32m   5466\u001b[0m \u001b[0;34m\u001b[0m\u001b[0m\n\u001b[1;32m   5467\u001b[0m     \u001b[0;32mdef\u001b[0m \u001b[0m__setattr__\u001b[0m\u001b[0;34m(\u001b[0m\u001b[0mself\u001b[0m\u001b[0;34m,\u001b[0m \u001b[0mname\u001b[0m\u001b[0;34m:\u001b[0m \u001b[0mstr\u001b[0m\u001b[0;34m,\u001b[0m \u001b[0mvalue\u001b[0m\u001b[0;34m)\u001b[0m \u001b[0;34m->\u001b[0m \u001b[0;32mNone\u001b[0m\u001b[0;34m:\u001b[0m\u001b[0;34m\u001b[0m\u001b[0;34m\u001b[0m\u001b[0m\n",
      "\u001b[0;31mAttributeError\u001b[0m: 'DataFrame' object has no attribute 'area'"
     ]
    }
   ],
   "source": [
    "df.area"
   ]
  },
  {
   "cell_type": "code",
   "execution_count": null,
   "id": "d4ba1d88",
   "metadata": {},
   "outputs": [],
   "source": [
    "# from joblib import load\n",
    "# __model = load('./Server/models/random_forest_model.joblib')"
   ]
  },
  {
   "cell_type": "code",
   "execution_count": null,
   "id": "dc2cefe3",
   "metadata": {},
   "outputs": [],
   "source": [
    "# df.head(1)"
   ]
  },
  {
   "cell_type": "code",
   "execution_count": null,
   "id": "cb1d9657",
   "metadata": {},
   "outputs": [],
   "source": [
    "# __model.predict([ [1513641600.0,2.0,1056.0,2.0,1.0,0.0,0.0,1.0,0.0,0.0,0.0,0.0,0.0,1.0,528.0 ] ])"
   ]
  }
 ],
 "metadata": {
  "kernelspec": {
   "display_name": "Python 3",
   "language": "python",
   "name": "python3"
  },
  "language_info": {
   "codemirror_mode": {
    "name": "ipython",
    "version": 3
   },
   "file_extension": ".py",
   "mimetype": "text/x-python",
   "name": "python",
   "nbconvert_exporter": "python",
   "pygments_lexer": "ipython3",
   "version": "3.8.8"
  }
 },
 "nbformat": 4,
 "nbformat_minor": 5
}
